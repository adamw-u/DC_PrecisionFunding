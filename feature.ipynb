{
 "cells": [
  {
   "cell_type": "code",
   "execution_count": 1,
   "metadata": {
    "collapsed": false
   },
   "outputs": [
    {
     "name": "stderr",
     "output_type": "stream",
     "text": [
      "D:\\Anaconda2\\lib\\site-packages\\ipykernel\\__main__.py:35: SettingWithCopyWarning: \n",
      "A value is trying to be set on a copy of a slice from a DataFrame.\n",
      "Try using .loc[row_indexer,col_indexer] = value instead\n",
      "\n",
      "See the caveats in the documentation: http://pandas.pydata.org/pandas-docs/stable/indexing.html#indexing-view-versus-copy\n"
     ]
    }
   ],
   "source": [
    "import re\n",
    "import numpy as np\n",
    "import pandas as pd\n",
    "\n",
    "path = 'E:/BaiduYunDownload/DC_2/'\n",
    "\n",
    "borrow_train = pd.read_csv(path+'train/borrow_train.txt',sep = '\\n',header = None,names = ['col'])\n",
    "borrow_train = borrow_train.drop_duplicates()\n",
    "\n",
    "borrow_test = pd.read_csv(path+'test/borrow_test.txt',sep = '\\n',header = None,names = ['col'])\n",
    "borrow_test = borrow_test.drop_duplicates()\n",
    "\n",
    "borrow = pd.concat([borrow_train,borrow_test])\n",
    "\n",
    "borrow['student_id'] = borrow['col'].apply(lambda x:x.split(',')[0])\n",
    "borrow['borrow_time'] = borrow['col'].apply(lambda x:x.split(',')[1])\n",
    "borrow['book'] = borrow['col'].apply(lambda x:''.join([i.split(\" \")[0]for i in x.split(',')[2:-1]]))\n",
    "borrow['book_num'] =  borrow['col'].apply(lambda x:x.split(',')[-1] if x.split(',')[-1].startswith('\"') else 'NNN')\n",
    "borrow['book_num'] = borrow['book_num'].str.replace('\"','')\n",
    "borrow['borrow_time'] = borrow['borrow_time'].str.replace('\"','')\n",
    "borrow['book'] = borrow['book'].str.replace('\"','')\n",
    "\n",
    "pattern = re.compile(r'[A-Za-z]')\n",
    "def book_tag(x):\n",
    "    if x.startswith('TP') or x.startswith('TN') or x.startswith('TM') or x.startswith('TB') or x.startswith('TH'):\n",
    "        return x[0:2]\n",
    "    elif x!='NNN' and re.match(pattern,x):\n",
    "        return x[0]\n",
    "    elif x=='NNN' or not re.match(pattern,x):\n",
    "        return x\n",
    "borrow['book_num1'] = borrow['book_num'].apply(lambda x: book_tag(x))\n",
    "\n",
    "borrow1 = borrow.groupby('book_num1').filter(lambda x:len(x)>=10)\n",
    "borrow2 = borrow.groupby('book_num1').filter(lambda x:len(x)<10)\n",
    "borrow2['book_num1'] = 'NNN'\n",
    "borrow = pd.concat([borrow1,borrow2])"
   ]
  },
  {
   "cell_type": "code",
   "execution_count": 2,
   "metadata": {
    "collapsed": false
   },
   "outputs": [
    {
     "name": "stderr",
     "output_type": "stream",
     "text": [
      "D:\\Anaconda2\\lib\\site-packages\\ipykernel\\__main__.py:8: SettingWithCopyWarning: \n",
      "A value is trying to be set on a copy of a slice from a DataFrame.\n",
      "Try using .loc[row_indexer,col_indexer] = value instead\n",
      "\n",
      "See the caveats in the documentation: http://pandas.pydata.org/pandas-docs/stable/indexing.html#indexing-view-versus-copy\n"
     ]
    }
   ],
   "source": [
    "######na填充\n",
    "book = borrow[borrow['book_num1']!='NNN'][['book','book_num1']].drop_duplicates()\n",
    "book = book.rename(columns={'book_num1':'book_num2'})\n",
    "borrow1 = pd.merge(borrow,book,on = 'book',how = 'left')\n",
    "borrow1 = borrow1.fillna('NNN')\n",
    "borrow2 = borrow1[(borrow1['book_num1']=='NNN')]\n",
    "borrow3 = borrow1[(borrow1['book_num1']!='NNN')]\n",
    "borrow2['book_num1'] = borrow2['book_num2']\n",
    "borrow4 = pd.concat([borrow2,borrow3])\n",
    "borrow4 = borrow4.drop(['col','book_num','book_num2'],axis = 1)\n",
    "\n",
    "borrow4['borrow_time'] = pd.to_datetime(pd.Series(borrow4['borrow_time']))\n",
    "\n",
    "borrow4['weekday'] = [borrow4['borrow_time'][i].dayofweek for i in range(len(borrow4['borrow_time']))]\n",
    "borrow4['month'] = borrow4['borrow_time'].apply(lambda x:str(x)[5:7])\n",
    "\n",
    "borrow5 = borrow4.groupby(['student_id','book_num1'])['book'].count()\n",
    "borrow5 = borrow5.unstack(fill_value=0) \n",
    "borrow5 = borrow5.reset_index()\n",
    "\n",
    "borrow6 = borrow4.groupby(['student_id'],as_index = False)['book'].count()\n",
    "borrow6 = borrow6.rename(columns = {'book':'book_count'})"
   ]
  },
  {
   "cell_type": "code",
   "execution_count": 3,
   "metadata": {
    "collapsed": true
   },
   "outputs": [],
   "source": [
    "dorm_train = pd.read_csv(path+'train/dorm_train.txt',header = None)\n",
    "dorm_train.columns = ['student_id','dorm_time','out1_in0']\n",
    "dorm_train = dorm_train.drop_duplicates()\n",
    "\n",
    "dorm_test = pd.read_csv(path+'test/dorm_test.txt',header = None)\n",
    "dorm_test.columns = ['student_id','dorm_time','out1_in0']\n",
    "dorm_test = dorm_test.drop_duplicates()\n",
    "\n",
    "dorm = pd.concat([dorm_train,dorm_test])\n",
    "\n",
    "dorm['hour']=dorm['dorm_time'].apply(lambda x:str(x)[11:13])\n",
    "dorm['month']=dorm['dorm_time'].apply(lambda x:str(x)[5:7])\n",
    "dorm_in_count = dorm.groupby(['student_id','hour'])['out1_in0'].count()\n",
    "dorm_in_count = dorm_in_count.unstack(fill_value=0)\n",
    "dorm_in_count = dorm_in_count.reset_index()\n",
    "\n",
    "dorm_out_count = dorm[dorm['out1_in0']==1].groupby(['student_id','hour'])['out1_in0'].count()\n",
    "dorm_out_count = dorm_out_count.unstack(fill_value=0)\n",
    "dorm_out_count = dorm_out_count.reset_index()\n",
    "dorm_count = dorm.groupby(['student_id'],as_index = False)['dorm_time'].count()\n",
    "dorm_count = dorm_count.rename(columns = {'dorm_time':'dorm_count'})"
   ]
  },
  {
   "cell_type": "code",
   "execution_count": 4,
   "metadata": {
    "collapsed": false
   },
   "outputs": [],
   "source": [
    "library_train = pd.read_csv(path+'train/library_train.txt',header = None)\n",
    "library_train.columns = ['student_id','library_door','library_time']\n",
    "library_train = library_train.drop_duplicates()\n",
    "\n",
    "library_test = pd.read_csv(path+'test/library_test.txt',header = None)\n",
    "library_test.columns = ['student_id','library_door','library_time']\n",
    "library_test = library_test.drop_duplicates()\n",
    "\n",
    "library = pd.concat([library_train,library_test])\n",
    "library['hour']=library['library_time'].apply(lambda x:str(x)[11:13])\n",
    "library['month']=library['library_time'].apply(lambda x:str(x)[5:7])\n",
    "\n",
    "library_door = library.groupby(['student_id','library_door'])['library_time'].count()\n",
    "library_door = library_door.unstack(fill_value=0)\n",
    "library_door = library_door.reset_index()\n",
    "\n",
    "library_count = library.groupby(['student_id'],as_index = False)['library_time'].count()\n",
    "library_count = library_count.rename(columns = {'library_time':'library_count'})"
   ]
  },
  {
   "cell_type": "code",
   "execution_count": 5,
   "metadata": {
    "collapsed": false
   },
   "outputs": [],
   "source": [
    "score_train = pd.read_csv(path+'train/score_train.txt',header = None)\n",
    "score_train.columns = ['student_id','college','class_rank']\n",
    "score_train = score_train.drop_duplicates()\n",
    "\n",
    "score_test = pd.read_csv(path+'test/score_test.txt',header = None)\n",
    "score_test.columns = ['student_id','college','class_rank']\n",
    "score_test = score_test.drop_duplicates()\n",
    "\n",
    "score = pd.concat([score_train,score_test])\n",
    "college1 = score.groupby(['college'],as_index = False)['class_rank'].max()\n",
    "college2 = score.groupby(['college'],as_index = False)['class_rank'].min()\n",
    "college1 = college1.rename(columns = {'class_rank':'class_rank_max'})\n",
    "college2 = college2.rename(columns = {'class_rank':'class_rank_min'})\n",
    "score_train_test1 = pd.merge(score, college1, how='left',on='college')\n",
    "score_train_test = pd.merge(score_train_test1, college2, how='left',on='college')\n",
    "score_train_test['order1'] = (score_train_test['class_rank']-score_train_test['class_rank_min'])/(score_train_test['class_rank_max']-\n",
    "                                                                                                  score_train_test['class_rank_min'])\n",
    "#score_train_test['order2'] = score_train_test['order1']/score_train_test['college']\n",
    "score_train_test = score_train_test.drop(['class_rank_max','class_rank_min'],axis = 1)\n",
    "\n",
    "subsidy_train = pd.read_csv(path+'train/subsidy_train.txt',header = None)\n",
    "subsidy_train.columns = ['student_id','grant_amount']\n",
    "\n",
    "subsidy_test = pd.read_csv(path+'test/subsidy_test.txt',header = None)\n",
    "subsidy_test.columns = ['student_id']\n",
    "subsidy_test['grant_amount'] = 0\n",
    "subsidy_test = subsidy_test.drop_duplicates()\n",
    "\n",
    "subsidy_train['TT'] = 'train'\n",
    "subsidy_test['TT'] = 'test'\n",
    "subsidy = pd.concat([subsidy_train,subsidy_test])"
   ]
  },
  {
   "cell_type": "code",
   "execution_count": 6,
   "metadata": {
    "collapsed": false
   },
   "outputs": [],
   "source": [
    "card_data1 = pd.read_csv(path+'card_data1.0219.csv',encoding = 'gb18030',index_col=None)\n",
    "card_data2 = pd.read_csv(path+'card_data2.0219.csv',encoding = 'gb18030',index_col=None)"
   ]
  },
  {
   "cell_type": "code",
   "execution_count": 7,
   "metadata": {
    "collapsed": false
   },
   "outputs": [
    {
     "name": "stderr",
     "output_type": "stream",
     "text": [
      "D:\\Anaconda2\\lib\\site-packages\\pandas\\indexes\\base.py:2097: UnicodeWarning: Unicode equal comparison failed to convert both arguments to Unicode - interpreting them as being unequal\n",
      "  indexer = self._engine.get_indexer(target._values)\n",
      "D:\\Anaconda2\\lib\\site-packages\\pandas\\indexes\\base.py:1237: UnicodeWarning: Unicode equal comparison failed to convert both arguments to Unicode - interpreting them as being unequal\n",
      "  return key in self._engine\n",
      "D:\\Anaconda2\\lib\\site-packages\\pandas\\indexes\\base.py:941: UnicodeWarning: Unicode equal comparison failed to convert both arguments to Unicode - interpreting them as being unequal\n",
      "  return self._engine.is_unique\n"
     ]
    }
   ],
   "source": [
    "data1 = pd.merge(subsidy,score_train_test,on = 'student_id',how = 'outer')\n",
    "data2 = data1.merge(library_count,on = 'student_id',how = 'outer')\n",
    "data3 = data2.merge(library_door,on = 'student_id',how = 'outer')\n",
    "data4 = data3.merge(dorm_in_count,on = 'student_id',how = 'outer')\n",
    "data5 = data4.merge(dorm_out_count,on = 'student_id',how = 'outer')\n",
    "data6 = data5.merge(dorm_count,on = 'student_id',how = 'outer')\n",
    "data7 = data6.merge(borrow5,on = 'student_id',how = 'outer')\n",
    "data8 = data7.merge(borrow6,on = 'student_id',how = 'outer')\n",
    "data9 = data8.merge(card_data1,on = 'student_id',how = 'outer')\n",
    "data10 = data9.merge(card_data2,on = 'student_id',how = 'outer')\n",
    "#data9 = data8.merge(card_data3,on = 'student_id',how = 'outer')\n",
    "#data10 = data9.merge(card_data4,on = 'student_id',how = 'outer')"
   ]
  },
  {
   "cell_type": "code",
   "execution_count": 8,
   "metadata": {
    "collapsed": false
   },
   "outputs": [],
   "source": [
    "data10.fillna(-1).to_csv(path+'data0219.csv',encoding = 'gb18030',index = False)"
   ]
  }
 ],
 "metadata": {
  "kernelspec": {
   "display_name": "Python 2",
   "language": "python",
   "name": "python2"
  },
  "language_info": {
   "codemirror_mode": {
    "name": "ipython",
    "version": 2
   },
   "file_extension": ".py",
   "mimetype": "text/x-python",
   "name": "python",
   "nbconvert_exporter": "python",
   "pygments_lexer": "ipython2",
   "version": "2.7.12"
  }
 },
 "nbformat": 4,
 "nbformat_minor": 0
}
