{
 "cells": [
  {
   "cell_type": "code",
   "execution_count": 1,
   "metadata": {
    "collapsed": false
   },
   "outputs": [],
   "source": [
    "import re\n",
    "import numpy as np\n",
    "import pandas as pd\n",
    "\n",
    "path = 'E:/BaiduYunDownload/DC_2/'\n",
    "\n",
    "card_train = pd.read_csv(path+'train/card_train.txt',header = None)\n",
    "card_train.columns = ['student_id','cost_type','cost_add','cost_pattern','cost_time','cost','balance']\n",
    "card_train = card_train.drop_duplicates()\n",
    "\n",
    "card_test = pd.read_csv(path+'test/card_test.txt',header = None)\n",
    "card_test.columns = ['student_id','cost_type','cost_add','cost_pattern','cost_time','cost','balance']\n",
    "card_test = card_test.drop_duplicates()\n",
    "\n",
    "card = pd.concat([card_train,card_test])\n",
    "\n",
    "card['cost_time'] = pd.to_datetime(pd.Series(card['cost_time']))\n",
    "card['weekday'] = card['cost_time'].dt.dayofweek\n",
    "card['hour']=card['cost_time'].apply(lambda x:str(x)[11:13])\n",
    "card['month']=card['cost_time'].apply(lambda x:str(x)[5:7])\n",
    "card['month'] = card['month'].astype(int)\n",
    "card['day']=card['cost_time'].apply(lambda x:str(x)[8:10])"
   ]
  },
  {
   "cell_type": "code",
   "execution_count": 4,
   "metadata": {
    "collapsed": false
   },
   "outputs": [],
   "source": [
    "carda = card[(card['cost_type']=='POS消费')|(card['cost_type']=='车载消费')]###POS统计所有特征\n",
    "cardb = card[(card['cost_type']=='卡充值')|(card['cost_type']=='圈存转账')|(card['cost_type']=='支付领取')|(card['cost_type']=='卡片开户')]\n",
    "cardc = card[(card['cost_type']=='卡片销户')|(card['cost_type']=='卡补办')]\n",
    "cardd = card[(card['cost_type']=='换卡')|(card['cost_type']=='卡挂失')|(card['cost_type']=='卡解挂')|\n",
    "            (card['cost_type']=='卡冻结')|(card['cost_type']=='卡解冻')|(card['cost_type']=='更新卡信息')]"
   ]
  },
  {
   "cell_type": "code",
   "execution_count": 5,
   "metadata": {
    "collapsed": true
   },
   "outputs": [],
   "source": [
    "carda.to_csv(path+'carda.csv',encoding = 'gb18030',index = False)\n",
    "cardb.to_csv(path+'cardb.csv',encoding = 'gb18030',index = False)\n",
    "cardc.to_csv(path+'cardc.csv',encoding = 'gb18030',index = False)\n",
    "cardd.to_csv(path+'cardd.csv',encoding = 'gb18030',index = False)"
   ]
  }
 ],
 "metadata": {
  "kernelspec": {
   "display_name": "Python 2",
   "language": "python",
   "name": "python2"
  },
  "language_info": {
   "codemirror_mode": {
    "name": "ipython",
    "version": 2
   },
   "file_extension": ".py",
   "mimetype": "text/x-python",
   "name": "python",
   "nbconvert_exporter": "python",
   "pygments_lexer": "ipython2",
   "version": "2.7.12"
  }
 },
 "nbformat": 4,
 "nbformat_minor": 0
}
