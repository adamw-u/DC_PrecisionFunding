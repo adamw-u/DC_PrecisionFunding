{
 "cells": [
  {
   "cell_type": "code",
   "execution_count": 1,
   "metadata": {
    "collapsed": true
   },
   "outputs": [],
   "source": [
    "import re\n",
    "import numpy as np\n",
    "import pandas as pd\n",
    "\n",
    "path = 'E:/BaiduYunDownload/DC_2/'\n",
    "\n",
    "carda = pd.read_csv(path+'carda.csv',encoding = 'gb18030',index_col=None)\n",
    "cardb = pd.read_csv(path+'cardb.csv',encoding = 'gb18030',index_col=None)\n",
    "cardc = pd.read_csv(path+'cardc.csv',encoding = 'gb18030',index_col=None)\n",
    "carde = carda[carda['cost_type']==u'车载消费']"
   ]
  },
  {
   "cell_type": "code",
   "execution_count": 2,
   "metadata": {
    "collapsed": false
   },
   "outputs": [
    {
     "name": "stderr",
     "output_type": "stream",
     "text": [
      "D:\\Anaconda2\\lib\\site-packages\\ipykernel\\__main__.py:4: SettingWithCopyWarning: \n",
      "A value is trying to be set on a copy of a slice from a DataFrame.\n",
      "Try using .loc[row_indexer,col_indexer] = value instead\n",
      "\n",
      "See the caveats in the documentation: http://pandas.pydata.org/pandas-docs/stable/indexing.html#indexing-view-versus-copy\n"
     ]
    }
   ],
   "source": [
    "card = carda[carda['cost_type']==u'POS消费']\n",
    "card97 = card.groupby('cost_add').filter(lambda x:x['cost'].sum()>=100000)\n",
    "card98 = card.groupby('cost_add').filter(lambda x:x['cost'].sum()<100000)\n",
    "card98['cost_add'] = 'other_add'\n",
    "card99 = pd.concat([card97,card98])\n",
    "\n",
    "def q1(x):\n",
    "    return x.quantile(0.25)\n",
    "def q3(x):\n",
    "    return x.quantile(0.75)"
   ]
  },
  {
   "cell_type": "code",
   "execution_count": 3,
   "metadata": {
    "collapsed": false
   },
   "outputs": [],
   "source": [
    "carde1 = carde.groupby('student_id',as_index = False)['cost'].count()\n",
    "carde1 = carde1.rename(columns = {'cost':'school_car_count'})\n",
    "\n",
    "cardb1 = cardb.groupby(['student_id','cost_type'])['cost'].count()\n",
    "cardb2 = cardb.groupby(['student_id','cost_type'])['cost'].agg({'cost_max':np.max,'cost_mean':np.mean,'cost_median':np.median,\n",
    "                                                'cost_sum':np.sum,'cost_std':np.std,'cost_min':np.min,'cost_q1':q1,'cost_q3':q3,})\n",
    "cardb3 = cardb.groupby(['student_id','cost_type'])['balance'].agg({'balance_max':np.max,'balance_mean':np.mean,'balance_median':np.median,\n",
    "                                'balance_sum':np.sum,'balance_std':np.std,'balance_min':np.min,'balance_q1':q1,'balance_q3':q3,})\n",
    "cardb1 = cardb1.unstack(fill_value=0)\n",
    "cardb1 = cardb1.reset_index()\n",
    "cardb2 = cardb2.unstack(fill_value=0)\n",
    "cardb2 = cardb2.reset_index()\n",
    "cardb3 = cardb3.unstack(fill_value=0)\n",
    "cardb3 = cardb3.reset_index()\n",
    "cardb1.columns = ['student_id' if i=='student_id' else i+'count' for i in cardb1.columns]\n",
    "\n",
    "cardc1 = cardc.groupby(['student_id','cost_type'])['cost'].count()\n",
    "cardc2 = cardc.groupby(['student_id','cost_type'])['cost'].agg({'cost_max':np.max,'cost_mean':np.mean,'cost_median':np.median,\n",
    "                                                'cost_sum':np.sum,'cost_std':np.std,'cost_min':np.min,'cost_q1':q1,'cost_q3':q3})\n",
    "cardc3 = cardc.groupby(['student_id','cost_type'])['balance'].agg({'balance_max':np.max,'balance_mean':np.mean,'balance_median':np.median,\n",
    "                                    'balance_sum':np.sum,'balance_std':np.std,'balance_min':np.min,'balance_q1':q1,'balance_q3':q3,})\n",
    "cardc1 = cardc1.unstack(fill_value=0)\n",
    "cardc1 = cardc1.reset_index()\n",
    "cardc2 = cardc2.unstack(fill_value=0)\n",
    "cardc2 = cardc2.reset_index()\n",
    "cardc3 = cardc3.unstack(fill_value=0)\n",
    "cardc3 = cardc3.reset_index()\n",
    "cardc1.columns = ['student_id' if i=='student_id' else i+'count' for i in cardc1.columns]"
   ]
  },
  {
   "cell_type": "code",
   "execution_count": 4,
   "metadata": {
    "collapsed": false
   },
   "outputs": [
    {
     "name": "stderr",
     "output_type": "stream",
     "text": [
      "D:\\Anaconda2\\lib\\site-packages\\ipykernel\\__main__.py:94: SettingWithCopyWarning: \n",
      "A value is trying to be set on a copy of a slice from a DataFrame.\n",
      "Try using .loc[row_indexer,col_indexer] = value instead\n",
      "\n",
      "See the caveats in the documentation: http://pandas.pydata.org/pandas-docs/stable/indexing.html#indexing-view-versus-copy\n"
     ]
    }
   ],
   "source": [
    "card4 = card.groupby(['student_id','cost_pattern'])['cost'].agg({'cost_max':np.max,'cost_mean':np.mean,'cost_median':np.median,\n",
    "                                                'cost_sum':np.sum,'cost_std':np.std,'cost_min':np.min,'cost_q1':q1,'cost_q3':q3,\n",
    "                                                        })\n",
    "card5 = card.groupby(['student_id','cost_pattern'])['balance'].agg({'balance_max':np.max,'balance_mean':np.mean,'balance_median':np.median,\n",
    "                                         'balance_sum':np.sum,'balance_std':np.std,'balance_min':np.min,'balance_q1':q1,'balance_q3':q3,\n",
    "                                         })\n",
    "card6 = card.groupby(['student_id','cost_pattern'])['cost'].count()\n",
    "card4 =card4.unstack(fill_value=0)\n",
    "card4 = card4.reset_index()\n",
    "card5 =card5.unstack(fill_value=0)\n",
    "card5 = card5.reset_index()\n",
    "card6 =card6.unstack(fill_value=0)\n",
    "card6 = card6.reset_index()\n",
    "card6.columns = ['student_id' if i=='student_id' else i+'count' for i in card6.columns]\n",
    "\n",
    "card7 = card99.groupby(['student_id','cost_add'])['cost'].agg({'cost_max':np.max,'cost_mean':np.mean,'cost_median':np.median,\n",
    "                                                    'cost_sum':np.sum,'cost_std':np.std,'cost_min':np.min,'cost_q1':q1,'cost_q3':q3,\n",
    "                                                        })\n",
    "card8 = card99.groupby(['student_id','cost_add'])['balance'].agg({'balance_max':np.max,'balance_mean':np.mean,'balance_median':np.median,\n",
    "                                         'balance_sum':np.sum,'balance_std':np.std,'balance_min':np.min,'balance_q1':q1,'balance_q3':q3,\n",
    "                                         })\n",
    "card9 = card99.groupby(['student_id','cost_add'])['cost'].count()\n",
    "card7 =card7.unstack(fill_value=0)\n",
    "card7 = card7.reset_index()\n",
    "card8 =card8.unstack(fill_value=0)\n",
    "card8 = card8.reset_index()\n",
    "card9 =card9.unstack(fill_value=0)\n",
    "card9 = card9.reset_index()\n",
    "card9.columns = ['student_id' if i=='student_id' else i+'count' for i in card9.columns]\n",
    "\n",
    "####周、小时、月、天消费\n",
    "card10 = card.groupby(['student_id','weekday'])['cost'].agg({'cost_max':np.max,'cost_mean':np.mean,'cost_median':np.median,'cost_sum':np.sum,\n",
    "                                                         'cost_std':np.std,'cost_min':np.min,'cost_q1':q1,'cost_q3':q3,\n",
    "                                                        })\n",
    "card12 = card.groupby(['student_id','weekday'])['balance'].agg({'balance_max':np.max,'balance_mean':np.mean,'balance_median':np.median,\n",
    "                                         'balance_sum':np.sum,'balance_std':np.std,'balance_min':np.min,'balance_q1':q1,'balance_q3':q3,\n",
    "                                         })\n",
    "\n",
    "card11 = card.groupby(['student_id','weekday'])['cost'].count()\n",
    "card10 = card10.unstack(fill_value=0)\n",
    "card10 = card10.reset_index()\n",
    "card11 = card11.unstack(fill_value=0)\n",
    "card11 = card11.reset_index()\n",
    "card12 = card12.unstack(fill_value=0)\n",
    "card12 = card12.reset_index()\n",
    "card11.columns = ['student_id' if i=='student_id' else str(i)+'count' for i in card11.columns]\n",
    "\n",
    "\n",
    "card13 = card.groupby(['student_id','hour'])['cost'].agg({'cost_max':np.max,'cost_mean':np.mean,'cost_median':np.median,'cost_sum':np.sum,\n",
    "                                                         'cost_std':np.std,'cost_min':np.min,'cost_q1':q1,'cost_q3':q3,\n",
    "                                                        })\n",
    "card15 = card.groupby(['student_id','hour'])['balance'].agg({'balance_max':np.max,'balance_mean':np.mean,'balance_median':np.median,\n",
    "                                         'balance_sum':np.sum,'balance_std':np.std,'balance_min':np.min,'balance_q1':q1,'balance_q3':q3,\n",
    "                                         })\n",
    "card14 = card.groupby(['student_id','hour'])['cost'].count()\n",
    "card13 = card13.unstack(fill_value=0)\n",
    "card13 = card13.reset_index()\n",
    "card14 = card14.unstack(fill_value=0)\n",
    "card14 = card14.reset_index()\n",
    "card15 = card15.unstack(fill_value=0)\n",
    "card15 = card15.reset_index()\n",
    "card14.columns = ['student_id' if i=='student_id' else str(i)+'count' for i in card14.columns]\n",
    "\n",
    "card16 = card.groupby(['student_id','month'])['cost'].agg({'cost_max':np.max,'cost_mean':np.mean,'cost_median':np.median,'cost_sum':np.sum,\n",
    "                                                         'cost_std':np.std,'cost_min':np.min,'cost_q1':q1,'cost_q3':q3,\n",
    "                                                        })\n",
    "card18 = card.groupby(['student_id','month'])['balance'].agg({'balance_max':np.max,'balance_mean':np.mean,'balance_median':np.median,\n",
    "                                         'balance_sum':np.sum,'balance_std':np.std,'balance_min':np.min,'balance_q1':q1,'balance_q3':q3,\n",
    "                                         })\n",
    "card17 = card.groupby(['student_id','month'])['cost'].count()\n",
    "card16 = card16.unstack(fill_value=0)\n",
    "card16 = card16.reset_index()\n",
    "card17 = card17.unstack(fill_value=0)\n",
    "card17 = card17.reset_index()\n",
    "card18 = card18.unstack(fill_value=0)\n",
    "card18 = card18.reset_index()\n",
    "card17.columns = ['student_id' if i=='student_id' else str(i)+'count' for i in card17.columns]\n",
    "\n",
    "card19 = card.groupby(['student_id','day'])['cost'].agg({'cost_max':np.max,'cost_mean':np.mean,'cost_median':np.median,'cost_sum':np.sum,\n",
    "                                                         'cost_std':np.std,'cost_min':np.min,'cost_q1':q1,'cost_q3':q3,\n",
    "                                                        })\n",
    "card21 = card.groupby(['student_id','day'])['balance'].agg({'balance_max':np.max,'balance_mean':np.mean,'balance_median':np.median,\n",
    "                                         'balance_sum':np.sum,'balance_std':np.std,'balance_min':np.min,'balance_q1':q1,'balance_q3':q3,\n",
    "                                         })\n",
    "card20 = card.groupby(['student_id','day'])['cost'].count()\n",
    "card19 = card19.unstack(fill_value=0)\n",
    "card19 = card19.reset_index()\n",
    "card20 = card20.unstack(fill_value=0)\n",
    "card20 = card20.reset_index()\n",
    "card21 = card21.unstack(fill_value=0)\n",
    "card21 = card21.reset_index()\n",
    "card20.columns = ['student_id' if i=='student_id' else str(i)+'count' for i in card20.columns]\n",
    "\n",
    "card['year'] = card['cost_time'].apply(lambda x:str(x)[2:4])\n",
    "card22 = card.groupby(['student_id','year'])['cost'].agg({'cost_max':np.max,'cost_mean':np.mean,'cost_median':np.median,'cost_sum':np.sum,\n",
    "                                                         'cost_std':np.std,'cost_min':np.min,'cost_q1':q1,'cost_q3':q3,\n",
    "                                                        })\n",
    "card23 = card.groupby(['student_id','year'])['balance'].agg({'balance_max':np.max,'balance_mean':np.mean,'balance_median':np.median,\n",
    "                                         'balance_sum':np.sum,'balance_std':np.std,'balance_min':np.min,'balance_q1':q1,'balance_q3':q3,\n",
    "                                         })\n",
    "card24 = card.groupby(['student_id','year'])['cost'].count()\n",
    "card22 = card22.unstack(fill_value=0)\n",
    "card22 = card22.reset_index()\n",
    "card23 = card23.unstack(fill_value=0)\n",
    "card23 = card23.reset_index()\n",
    "card24 = card24.unstack(fill_value=0)\n",
    "card24 = card24.reset_index()\n",
    "card24.columns = ['student_id' if i=='student_id' else str(i)+'count' for i in card24.columns]\n",
    "\n",
    "\n",
    "card25 = card.groupby(['student_id'],as_index = False)['cost'].count()\n",
    "card25 = card25.rename(columns={'cost':'costpos_count'})\n",
    "card26 = card.groupby(['student_id'],as_index = False)['cost'].agg({'cost_max':np.max,'cost_mean':np.mean,'cost_median':np.median,\n",
    "                                                'costpos_sum':np.sum,'cost_std':np.std,'cost_min':np.min,'cost_q1':q1,'cost_q3':q3,\n",
    "                                                       })\n",
    "card27 = card.groupby(['student_id'],as_index = False)['balance'].agg({'balance_max':np.max,'balance_mean':np.mean,\n",
    "                    'balance_median':np.median,'balance_sum':np.sum,'balance_std':np.std,'balance_min':np.min,'balance_q1':q1,'balance_q3':q3,\n",
    "                                         })"
   ]
  },
  {
   "cell_type": "code",
   "execution_count": 5,
   "metadata": {
    "collapsed": false
   },
   "outputs": [
    {
     "name": "stderr",
     "output_type": "stream",
     "text": [
      "D:\\Anaconda2\\lib\\site-packages\\pandas\\tools\\merge.py:205: UserWarning: merging between different levels can give an unintended result (1 levels on the left, 2 on the right)\n",
      "  warnings.warn(msg, UserWarning)\n",
      "D:\\Anaconda2\\lib\\site-packages\\pandas\\tools\\merge.py:478: PerformanceWarning: dropping on a non-lexsorted multi-index without a level parameter may impact performance.\n",
      "  self.right = self.right.drop(right_drop, axis=1)\n"
     ]
    }
   ],
   "source": [
    "card_data5 = card14.merge(card5,on = 'student_id',how = 'outer')\n",
    "card_data6 = card_data5.merge(card6,on = 'student_id',how = 'outer')\n",
    "card_data7 = card_data6.merge(card7,on = 'student_id',how = 'outer')\n",
    "card_data8 = card_data7.merge(card8,on = 'student_id',how = 'outer')\n",
    "card_data9 = card_data8.merge(card9,on = 'student_id',how = 'outer')\n",
    "card_data10 = card_data9.merge(card10,on = 'student_id',how = 'outer')\n",
    "card_data11 = card_data10.merge(card11,on = 'student_id',how = 'outer')\n",
    "card_data12 = card_data11.merge(card12,on = 'student_id',how = 'outer')\n",
    "card_data13 = card_data12.merge(card13,on = 'student_id',how = 'outer')\n",
    "card_data14 = card_data13.merge(card4,on = 'student_id',how = 'outer')\n",
    "\n",
    "card_data15 = card25.merge(card16,on = 'student_id',how = 'outer')\n",
    "card_data16 = card_data15.merge(card17,on = 'student_id',how = 'outer')\n",
    "card_data17 = card_data16.merge(card18,on = 'student_id',how = 'outer')\n",
    "card_data18 = card_data17.merge(card19,on = 'student_id',how = 'outer')\n",
    "card_data19 = card_data18.merge(card20,on = 'student_id',how = 'outer')\n",
    "card_data20 = card_data19.merge(card21,on = 'student_id',how = 'outer')\n",
    "card_data21 = card_data20.merge(card22,on = 'student_id',how = 'outer')\n",
    "card_data22 = card_data21.merge(card23,on = 'student_id',how = 'outer')\n",
    "card_data23 = card_data22.merge(card24,on = 'student_id',how = 'outer')\n",
    "card_data24 = card_data23.merge(card15,on = 'student_id',how = 'outer')\n",
    "card_data25 = card_data24.merge(card26,on = 'student_id',how = 'outer')\n",
    "card_data26 = card_data25.merge(card27,on = 'student_id',how = 'outer')\n",
    "\n",
    "card_data28 = card_data26.merge(cardb1,on = 'student_id',how = 'outer')\n",
    "card_data29 = card_data28.merge(cardb2,on = 'student_id',how = 'outer')\n",
    "card_data30 = card_data29.merge(cardb3,on = 'student_id',how = 'outer')\n",
    "card_data31 = card_data30.merge(cardc1,on = 'student_id',how = 'outer')\n",
    "card_data32 = card_data31.merge(cardc2,on = 'student_id',how = 'outer')\n",
    "card_data33 = card_data32.merge(cardc3,on = 'student_id',how = 'outer')\n",
    "card_data34 = card_data33.merge(carde1,on = 'student_id',how = 'outer')"
   ]
  },
  {
   "cell_type": "code",
   "execution_count": 6,
   "metadata": {
    "collapsed": true
   },
   "outputs": [],
   "source": [
    "card_data_1 = card_data14.fillna(-1)\n",
    "card_data_1.to_csv(path+'card_data1.0219.csv',encoding = 'gb18030',index = False)\n",
    "\n",
    "card_data_2 = card_data34.fillna(-1)\n",
    "card_data_2.to_csv(path+'card_data2.0219.csv',encoding = 'gb18030',index = False)"
   ]
  }
 ],
 "metadata": {
  "kernelspec": {
   "display_name": "Python 2",
   "language": "python",
   "name": "python2"
  },
  "language_info": {
   "codemirror_mode": {
    "name": "ipython",
    "version": 2
   },
   "file_extension": ".py",
   "mimetype": "text/x-python",
   "name": "python",
   "nbconvert_exporter": "python",
   "pygments_lexer": "ipython2",
   "version": "2.7.12"
  }
 },
 "nbformat": 4,
 "nbformat_minor": 0
}
