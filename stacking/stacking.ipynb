{
 "cells": [
  {
   "cell_type": "code",
   "execution_count": null,
   "metadata": {
    "collapsed": false
   },
   "outputs": [],
   "source": [
    "import pandas as pd\n",
    "import numpy as np\n",
    "\n",
    "path = 'E:/BaiduYunDownload/DC_2/'\n",
    "\n",
    "importance = pd.read_csv(path+'feature_importance.csv',encoding = 'gb18030')\n",
    "data = pd.read_csv(path+'data0219.csv',encoding = 'gb18030',index_col=None)\n",
    "data = data.fillna(0)\n",
    "\n",
    "for index,i in enumerate(data.columns):\n",
    "    if 'cost_sum' in i:\n",
    "        data[i+str(index)] = data[i]/data['costpos_sum']\n",
    "for index,i in enumerate(data.columns):\n",
    "    if 'count' in i:\n",
    "        data[i+str(index)] = data[i]/data['costpos_count']"
   ]
  },
  {
   "cell_type": "code",
   "execution_count": null,
   "metadata": {
    "collapsed": false
   },
   "outputs": [],
   "source": [
    "from sklearn import metrics\n",
    "from sklearn import cross_validation\n",
    "import xgboost as xgb\n",
    "from xgboost.sklearn import XGBClassifier\n",
    "from sklearn.ensemble import GradientBoostingClassifier\n",
    "from sklearn.ensemble import RandomForestClassifier\n",
    "from sklearn.ensemble import ExtraTreesClassifier\n",
    "from sklearn.ensemble import AdaBoostClassifier\n",
    "from sklearn.ensemble import BaggingClassifier\n",
    "from sklearn.linear_model import LogisticRegression\n",
    "from sklearn.grid_search import GridSearchCV\n",
    "from imblearn.over_sampling import RandomOverSampler\n",
    "\n",
    "data = data.fillna(0)\n",
    "train_data = data[data['TT']=='train']\n",
    "x = train_data.drop(['TT','student_id','grant_amount','class_rank',],axis = 1)\n",
    "y = train_data['grant_amount']\n",
    "\n",
    "test_data = data[data['TT']=='test']\n",
    "test_x = test_data.drop(['TT','student_id','grant_amount','class_rank',],axis = 1)\n",
    "test_y = test_data['grant_amount']\n",
    "\n",
    "os =  RandomOverSampler(ratio=1.0)\n",
    "X_overs, y_overs = os.fit_sample(x, y)\n",
    "\n",
    "X_overs = pd.DataFrame(X_overs)\n",
    "X_overs.columns = test_x.columns\n",
    "y_overs = pd.DataFrame(y_overs)\n",
    "y_overs.columns = ['grant_amount']\n",
    "y_overs = y_overs['grant_amount']\n",
    "\n",
    "#data_train, data_test, target_train, target_test = cross_validation.train_test_split(X_overs, y_overs)"
   ]
  },
  {
   "cell_type": "code",
   "execution_count": null,
   "metadata": {
    "collapsed": false
   },
   "outputs": [],
   "source": [
    "new_data1 = X_overs[importance['feature'][0:101]]\n",
    "new_data2 = test_x[importance['feature'][0:101]]\n",
    "\n",
    "new_data3 = pd.concat([new_data1,new_data2],axis = 0)\n",
    "new_data3 = new_data3.reset_index().drop('index',axis = 1)\n",
    "\n",
    "etc_en = pd.read_csv(path+'etc_en.csv',index_col=None)\n",
    "etc_gini = pd.read_csv(path+'etc_gini.csv',index_col=None)\n",
    "rf_en = pd.read_csv(path+'rf_en.csv',index_col=None)\n",
    "rf_gini = pd.read_csv(path+'rf_gini.csv',index_col=None)\n",
    "xgb1 = pd.read_csv(path+'xgb.csv',index_col=None)\n",
    "GBDT = pd.read_csv(path+'xgb.csv',index_col=None)\n",
    "ada = pd.read_csv(path+'xgb.csv',index_col=None)\n",
    "bag = pd.read_csv(path+'xgb.csv',index_col=None)\n",
    "\n",
    "stacking_result = pd.concat([etc_en,etc_gini,rf_en,rf_gini,xgb1,GBDT,ada,bag],axis = 1)"
   ]
  },
  {
   "cell_type": "code",
   "execution_count": null,
   "metadata": {
    "collapsed": false
   },
   "outputs": [],
   "source": [
    "new = stacking_result#pd.concat([new_data3,stacking_result],axis = 1)\n",
    "new_train = new.iloc[0:37300,:]\n",
    "new_test = new.iloc[37300::,:]\n",
    "\n",
    "data_train, data_test, target_train, target_test = cross_validation.train_test_split(new_train, y_overs)"
   ]
  },
  {
   "cell_type": "code",
   "execution_count": null,
   "metadata": {
    "collapsed": false
   },
   "outputs": [],
   "source": [
    "xgb1 = XGBClassifier(\n",
    " learning_rate =0.02,\n",
    " n_estimators=800,\n",
    " max_depth=3,\n",
    " min_child_weight=1,\n",
    " gamma = 0.01,\n",
    " subsample=0.85,\n",
    " colsample_bytree=0.85,\n",
    " objective= 'multi:softmax',\n",
    " seed = 10,\n",
    " nthread=8,\n",
    ")\n",
    "\n",
    "xgb1.fit(data_train, target_train,eval_metric='auc')    \n",
    "\n",
    "train_pred = xgb1.predict(data_test)\n",
    "    \n",
    "print \"\\nModel Report\"\n",
    "#print \"AUC : %.4g\" % metrics.roc_auc_score(target_test, dtrain_predprob)\n",
    "print \"f1 : %.4g\" % metrics.f1_score(target_test, train_pred,average = 'macro')"
   ]
  },
  {
   "cell_type": "code",
   "execution_count": null,
   "metadata": {
    "collapsed": false
   },
   "outputs": [],
   "source": [
    "y_pred = xgb1.predict(new_test)\n",
    "submission = pd.DataFrame()\n",
    "submission['studentid']  = test_data['student_id']\n",
    "submission['subsidy'] = y_pred\n",
    "\n",
    "submission.to_csv(path+'result0220.csv',sep = ',', index=False)\n",
    "submission['subsidy'].value_counts()"
   ]
  },
  {
   "cell_type": "code",
   "execution_count": null,
   "metadata": {
    "collapsed": false
   },
   "outputs": [],
   "source": [
    "import  matplotlib.pyplot as plt  \n",
    "%matplotlib inline\n",
    "###画图显示中文\n",
    "plt.rcParams['font.family'] = ['SimHei']\n",
    "plt.rcParams['axes.unicode_minus'] = False\n",
    "\n",
    "feat_imp = pd.Series(xgb1.booster().get_fscore()).sort_values(ascending=True)\n",
    "feat_imp[-40:-1].plot(kind='barh', title='Feature Importances',figsize=(6,12))\n",
    "plt.ylabel('Feature Importance Score')\n",
    "\n",
    "golden_feature = feat_imp[-40:-1].index\n",
    "#importance = pd.DataFrame(xgb1.booster().get_fscore().items(), columns=['feature','importance']).sort('importance', ascending=False)\n",
    "#importance.to_csv(path+'feature_importance.csv',sep = ',', index=False,encoding = 'gb18030')"
   ]
  }
 ],
 "metadata": {
  "kernelspec": {
   "display_name": "Python 2",
   "language": "python",
   "name": "python2"
  },
  "language_info": {
   "codemirror_mode": {
    "name": "ipython",
    "version": 2
   },
   "file_extension": ".py",
   "mimetype": "text/x-python",
   "name": "python",
   "nbconvert_exporter": "python",
   "pygments_lexer": "ipython2",
   "version": "2.7.12"
  }
 },
 "nbformat": 4,
 "nbformat_minor": 0
}
